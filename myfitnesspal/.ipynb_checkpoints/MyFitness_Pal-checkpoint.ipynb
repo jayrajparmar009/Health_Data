{
 "cells": [
  {
   "cell_type": "markdown",
   "metadata": {},
   "source": [
    "# <center> MyFitnessPal data pipeline"
   ]
  },
  {
   "cell_type": "markdown",
   "metadata": {},
   "source": [
    "In this project, I am attempting to create a data pipeline to fetch my daily data logged on to myfitness pal for tracking calories (macro and micro nutrients). There is already a package developed by Adam Coddington aka [@coddingtonbear](https://github.com/coddingtonbear/python-myfitnesspal). I will be using that package directly instead of reinventing the wheel"
   ]
  },
  {
   "cell_type": "code",
   "execution_count": 126,
   "metadata": {},
   "outputs": [],
   "source": [
    "# importing all the dependencies\n",
    "import myfitnesspal\n",
    "import datetime\n",
    "from datetime import date\n",
    "import pandas as pd\n",
    "import json"
   ]
  },
  {
   "cell_type": "code",
   "execution_count": 2,
   "metadata": {},
   "outputs": [
    {
     "name": "stdout",
     "output_type": "stream",
     "text": [
      "········\n",
      "········\n"
     ]
    }
   ],
   "source": [
    "# I would like to securely store my password and I will store it in keyring as shown below\n",
    "\n",
    "import keyring\n",
    "import getpass\n",
    "\n",
    "u1 = keyring.set_password('myfitnesspal', 'username', getpass.getpass())\n",
    "p1 = keyring.set_password('myfitnesspal', 'password', getpass.getpass())\n",
    "username = keyring.get_password('myfitnesspal', 'username')\n",
    "password = keyring.get_password('myfitnesspal', 'password')"
   ]
  },
  {
   "cell_type": "code",
   "execution_count": 121,
   "metadata": {},
   "outputs": [
    {
     "data": {
      "text/plain": [
       "<09/24/21 {'calories': 1439.0, 'carbohydrates': 133.0, 'fat': 50.0, 'protein': 118.0, 'sodium': 1097.0, 'sugar': 36.0}>"
      ]
     },
     "execution_count": 121,
     "metadata": {},
     "output_type": "execute_result"
    }
   ],
   "source": [
    "client = myfitnesspal.Client(username, password=password)\n",
    "\n",
    "day = client.get_date(2021, 9, 24)\n",
    "\n",
    "day"
   ]
  },
  {
   "cell_type": "code",
   "execution_count": 141,
   "metadata": {},
   "outputs": [
    {
     "data": {
      "text/html": [
       "<div>\n",
       "<style scoped>\n",
       "    .dataframe tbody tr th:only-of-type {\n",
       "        vertical-align: middle;\n",
       "    }\n",
       "\n",
       "    .dataframe tbody tr th {\n",
       "        vertical-align: top;\n",
       "    }\n",
       "\n",
       "    .dataframe thead th {\n",
       "        text-align: right;\n",
       "    }\n",
       "</style>\n",
       "<table border=\"1\" class=\"dataframe\">\n",
       "  <thead>\n",
       "    <tr style=\"text-align: right;\">\n",
       "      <th>col1</th>\n",
       "      <th>calories</th>\n",
       "      <th>carbohydrates</th>\n",
       "      <th>fat</th>\n",
       "      <th>protein</th>\n",
       "      <th>sodium</th>\n",
       "      <th>sugar</th>\n",
       "      <th>date</th>\n",
       "    </tr>\n",
       "  </thead>\n",
       "  <tbody>\n",
       "    <tr>\n",
       "      <th>0</th>\n",
       "      <td>1439.0</td>\n",
       "      <td>133.0</td>\n",
       "      <td>50.0</td>\n",
       "      <td>118.0</td>\n",
       "      <td>1097.0</td>\n",
       "      <td>36.0</td>\n",
       "      <td>2021-09-25</td>\n",
       "    </tr>\n",
       "  </tbody>\n",
       "</table>\n",
       "</div>"
      ],
      "text/plain": [
       "col1  calories  carbohydrates   fat  protein  sodium  sugar       date\n",
       "0       1439.0          133.0  50.0    118.0  1097.0   36.0 2021-09-25"
      ]
     },
     "execution_count": 141,
     "metadata": {},
     "output_type": "execute_result"
    }
   ],
   "source": [
    "\n",
    "\n",
    "day = client.get_date(date.today().year, date.today().month, 24)\n",
    "daily_values = json.loads((str(day)[9:].replace(\"'\",'\"')))\n",
    "df = pd.DataFrame(daily_values.items(), columns = ['col1', 'col2']).set_index('col1').T\n",
    "df.reset_index(drop = True, inplace = True)\n",
    "today = pd.to_datetime(date.today())\n",
    "df['date'] = today\n",
    "df"
   ]
  },
  {
   "cell_type": "code",
   "execution_count": 148,
   "metadata": {},
   "outputs": [
    {
     "data": {
      "text/plain": [
       "24"
      ]
     },
     "execution_count": 148,
     "metadata": {},
     "output_type": "execute_result"
    }
   ],
   "source": [
    "date.today().day - 1"
   ]
  },
  {
   "cell_type": "code",
   "execution_count": null,
   "metadata": {},
   "outputs": [],
   "source": []
  }
 ],
 "metadata": {
  "kernelspec": {
   "display_name": "Python 3 (ipykernel)",
   "language": "python",
   "name": "python3"
  },
  "language_info": {
   "codemirror_mode": {
    "name": "ipython",
    "version": 3
   },
   "file_extension": ".py",
   "mimetype": "text/x-python",
   "name": "python",
   "nbconvert_exporter": "python",
   "pygments_lexer": "ipython3",
   "version": "3.8.3"
  }
 },
 "nbformat": 4,
 "nbformat_minor": 4
}
