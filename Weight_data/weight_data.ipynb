{
 "cells": [
  {
   "cell_type": "markdown",
   "metadata": {},
   "source": [
    "# <center>Weight Data"
   ]
  },
  {
   "cell_type": "markdown",
   "metadata": {},
   "source": [
    "Objective of this notebook is to bring in all the data related to my health:\n",
    "\n",
    "1. Weighing scale data\n",
    "2. MyFitness Pal\n",
    "3. Garmin watch\n",
    "4. Samsung Health "
   ]
  },
  {
   "cell_type": "code",
   "execution_count": 171,
   "metadata": {},
   "outputs": [
    {
     "name": "stdout",
     "output_type": "stream",
     "text": [
      "The autoreload extension is already loaded. To reload it, use:\n",
      "  %reload_ext autoreload\n"
     ]
    }
   ],
   "source": [
    "%load_ext autoreload\n",
    "%autoreload 2\n",
    "%matplotlib inline\n",
    "import pandas as pd\n",
    "import numpy as np\n",
    "import os\n",
    "import requests\n",
    "\n",
    "os.chdir('/Users/jayrajparmar/Documents/side_project/health_data_tracking')\n",
    "\n",
    "import basic_methods as bm\n",
    "\n",
    "\n",
    "import matplotlib.pyplot as plt"
   ]
  },
  {
   "cell_type": "code",
   "execution_count": 157,
   "metadata": {},
   "outputs": [
    {
     "data": {
      "text/html": [
       "<div>\n",
       "<style scoped>\n",
       "    .dataframe tbody tr th:only-of-type {\n",
       "        vertical-align: middle;\n",
       "    }\n",
       "\n",
       "    .dataframe tbody tr th {\n",
       "        vertical-align: top;\n",
       "    }\n",
       "\n",
       "    .dataframe thead th {\n",
       "        text-align: right;\n",
       "    }\n",
       "</style>\n",
       "<table border=\"1\" class=\"dataframe\">\n",
       "  <thead>\n",
       "    <tr style=\"text-align: right;\">\n",
       "      <th></th>\n",
       "      <th>Time of Measurement</th>\n",
       "      <th>Weight(kg)</th>\n",
       "      <th>BMI</th>\n",
       "      <th>Body Fat(%)</th>\n",
       "      <th>Fat-free Body Weight(kg)</th>\n",
       "      <th>Subcutaneous Fat(%)</th>\n",
       "      <th>Visceral Fat</th>\n",
       "      <th>Body Water(%)</th>\n",
       "      <th>Skeletal Muscle(%)</th>\n",
       "      <th>Muscle Mass(kg)</th>\n",
       "      <th>Bone Mass(kg)</th>\n",
       "      <th>Protein(%)</th>\n",
       "      <th>BMR(kcal)</th>\n",
       "      <th>Metabolic Age</th>\n",
       "      <th>Remarks</th>\n",
       "    </tr>\n",
       "  </thead>\n",
       "  <tbody>\n",
       "    <tr>\n",
       "      <th>0</th>\n",
       "      <td>April 9, 2022 09:28:03</td>\n",
       "      <td>80.9000</td>\n",
       "      <td>28.3000</td>\n",
       "      <td>16.01</td>\n",
       "      <td>67.95</td>\n",
       "      <td>13.1</td>\n",
       "      <td>10.0</td>\n",
       "      <td>60.6</td>\n",
       "      <td>54.3</td>\n",
       "      <td>64.50</td>\n",
       "      <td>3.40</td>\n",
       "      <td>19.1</td>\n",
       "      <td>1837.0</td>\n",
       "      <td>28.0</td>\n",
       "      <td>--</td>\n",
       "    </tr>\n",
       "    <tr>\n",
       "      <th>1</th>\n",
       "      <td>April 8, 2022 06:19:05</td>\n",
       "      <td>81.6500</td>\n",
       "      <td>28.6000</td>\n",
       "      <td>16.19</td>\n",
       "      <td>68.43</td>\n",
       "      <td>13.2</td>\n",
       "      <td>10.0</td>\n",
       "      <td>60.5</td>\n",
       "      <td>54.1</td>\n",
       "      <td>65.00</td>\n",
       "      <td>3.42</td>\n",
       "      <td>19.1</td>\n",
       "      <td>1848.0</td>\n",
       "      <td>29.0</td>\n",
       "      <td>--</td>\n",
       "    </tr>\n",
       "    <tr>\n",
       "      <th>2</th>\n",
       "      <td>April 7, 2022 06:08:45</td>\n",
       "      <td>81.6500</td>\n",
       "      <td>28.6000</td>\n",
       "      <td>16.22</td>\n",
       "      <td>68.41</td>\n",
       "      <td>13.2</td>\n",
       "      <td>10.0</td>\n",
       "      <td>60.5</td>\n",
       "      <td>54.1</td>\n",
       "      <td>65.00</td>\n",
       "      <td>3.42</td>\n",
       "      <td>19.1</td>\n",
       "      <td>1847.0</td>\n",
       "      <td>29.0</td>\n",
       "      <td>--</td>\n",
       "    </tr>\n",
       "    <tr>\n",
       "      <th>3</th>\n",
       "      <td>April 6, 2022 06:14:36</td>\n",
       "      <td>81.2500</td>\n",
       "      <td>28.4000</td>\n",
       "      <td>16.08</td>\n",
       "      <td>68.18</td>\n",
       "      <td>13.1</td>\n",
       "      <td>10.0</td>\n",
       "      <td>60.6</td>\n",
       "      <td>54.2</td>\n",
       "      <td>64.80</td>\n",
       "      <td>3.41</td>\n",
       "      <td>19.1</td>\n",
       "      <td>1842.0</td>\n",
       "      <td>28.0</td>\n",
       "      <td>--</td>\n",
       "    </tr>\n",
       "    <tr>\n",
       "      <th>4</th>\n",
       "      <td>April 5, 2022 06:04:17</td>\n",
       "      <td>81.4000</td>\n",
       "      <td>28.5000</td>\n",
       "      <td>16.13</td>\n",
       "      <td>68.27</td>\n",
       "      <td>13.2</td>\n",
       "      <td>10.0</td>\n",
       "      <td>60.6</td>\n",
       "      <td>54.2</td>\n",
       "      <td>64.90</td>\n",
       "      <td>3.41</td>\n",
       "      <td>19.1</td>\n",
       "      <td>1844.0</td>\n",
       "      <td>29.0</td>\n",
       "      <td>--</td>\n",
       "    </tr>\n",
       "  </tbody>\n",
       "</table>\n",
       "</div>"
      ],
      "text/plain": [
       "      Time of Measurement  Weight(kg)     BMI Body Fat(%)  \\\n",
       "0  April 9, 2022 09:28:03     80.9000 28.3000       16.01   \n",
       "1  April 8, 2022 06:19:05     81.6500 28.6000       16.19   \n",
       "2  April 7, 2022 06:08:45     81.6500 28.6000       16.22   \n",
       "3  April 6, 2022 06:14:36     81.2500 28.4000       16.08   \n",
       "4  April 5, 2022 06:04:17     81.4000 28.5000       16.13   \n",
       "\n",
       "  Fat-free Body Weight(kg) Subcutaneous Fat(%) Visceral Fat Body Water(%)  \\\n",
       "0                    67.95                13.1         10.0          60.6   \n",
       "1                    68.43                13.2         10.0          60.5   \n",
       "2                    68.41                13.2         10.0          60.5   \n",
       "3                    68.18                13.1         10.0          60.6   \n",
       "4                    68.27                13.2         10.0          60.6   \n",
       "\n",
       "  Skeletal Muscle(%) Muscle Mass(kg) Bone Mass(kg) Protein(%) BMR(kcal)  \\\n",
       "0               54.3           64.50          3.40       19.1    1837.0   \n",
       "1               54.1           65.00          3.42       19.1    1848.0   \n",
       "2               54.1           65.00          3.42       19.1    1847.0   \n",
       "3               54.2           64.80          3.41       19.1    1842.0   \n",
       "4               54.2           64.90          3.41       19.1    1844.0   \n",
       "\n",
       "  Metabolic Age Remarks  \n",
       "0          28.0      --  \n",
       "1          29.0      --  \n",
       "2          29.0      --  \n",
       "3          28.0      --  \n",
       "4          29.0      --  "
      ]
     },
     "execution_count": 157,
     "metadata": {},
     "output_type": "execute_result"
    }
   ],
   "source": [
    "df_initial = pd.read_csv('/Users/jayrajparmar/Documents/side_project/health_data_tracking/Weight_data/Measurement Data.csv')\n",
    "df_initial.head()\n",
    "\n"
   ]
  },
  {
   "cell_type": "code",
   "execution_count": 158,
   "metadata": {},
   "outputs": [],
   "source": [
    "# print(df_initial.dtypes)\n",
    "\n",
    "# Function to clean column names, convert date to datetime and delete Remarks field\n",
    "def data_prep(df):\n",
    "#     # Column name cleaning\n",
    "    d = {' ':'_',\n",
    "         '(':'',\n",
    "         ')':''}\n",
    "    df.columns = [i.replace(' ','_').replace('(','').replace(')','') for i in list(df_initial)]\n",
    "    print(df.columns)\n",
    "    df = bm.datetime_conversion(df, ['Time_of_Measurement'])\n",
    "    del df['Remarks']\n",
    "    return df\n",
    "    \n",
    "# Creating a function to convert features to numeric and extracting just date from datetime\n",
    "def date_numeric_groupby(df):\n",
    "    \n",
    "    \"\"\"First part is for converting datatypes to appropriate type for aggregation without error\n",
    "       Second part is for removing multiple entries for same dates\"\"\"\n",
    "    try:\n",
    "        lis=[]\n",
    "        for i in df.columns:\n",
    "            \n",
    "            if df[i].dtypes == 'datetime64[ns]':\n",
    "                lis.append(df[i].dt.date)\n",
    "                print(str(i)+str('(')+str(df[i].dtypes)+str(')')+str(':')+'Done')\n",
    "            elif df[i].dtypes == str:\n",
    "                lis.append(df[i].astype(str))\n",
    "                print(str(i)+str('(')+str(df[i].dtypes)+str(')')+str(':')+'Done')\n",
    "            else: \n",
    "                lis.append(df[i].apply(pd.to_numeric, errors='coerce'))\n",
    "                print(str(i)+str('(')+str(df[i].dtypes)+str(')')+str(': ')+'Done')\n",
    "    except:\n",
    "        print(\"There is an unknown datatype in the data!!\")\n",
    "    df_temp = pd.concat(lis, axis=1)\n",
    "    print('************************************************************************************')\n",
    "    print('************************************************************************************')\n",
    "    print('*****************************Datatypes after conversion*****************************')\n",
    "    print('************************************************************************************')\n",
    "    print('************************************************************************************')\n",
    "\n",
    "    print(df_temp.dtypes)\n",
    "    \n",
    "    # Creating list of numerical columns\n",
    "    numerics = ['int16', 'int32', 'int64', 'float16', 'float32', 'float64']\n",
    "    col_lis = list(df_temp.select_dtypes(include=numerics).columns)\n",
    "\n",
    "    # Creating a list of np.max functions for creating dictionary\n",
    "    max_func = [np.max for i in range(len(temp_lis))]\n",
    "\n",
    "    # Creating dictionary from both lists\n",
    "    d = dict(zip(col_lis, max_func))\n",
    "\n",
    "    df_max_cols = df_temp.groupby('Time_of_Measurement').agg(d).reset_index()\n",
    "\n",
    "    print('Shape of dataframe before removing duplicates: ' + str(df_temp.shape))\n",
    "\n",
    "    print('Shape of dataframe after removing duplicates: ' + str(df_max_cols.shape))\n",
    "    return df_max_cols\n",
    "\n",
    "\n",
    "    \n",
    "    \n",
    "    \n",
    "            \n"
   ]
  },
  {
   "cell_type": "code",
   "execution_count": 159,
   "metadata": {},
   "outputs": [
    {
     "name": "stdout",
     "output_type": "stream",
     "text": [
      "Index(['Time_of_Measurement', 'Weightkg', 'BMI', 'Body_Fat%',\n",
      "       'Fat-free_Body_Weightkg', 'Subcutaneous_Fat%', 'Visceral_Fat',\n",
      "       'Body_Water%', 'Skeletal_Muscle%', 'Muscle_Masskg', 'Bone_Masskg',\n",
      "       'Protein%', 'BMRkcal', 'Metabolic_Age', 'Remarks'],\n",
      "      dtype='object')\n",
      "Time_of_Measurement(datetime64[ns]):Done\n",
      "Weightkg(float64): Done\n",
      "BMI(float64): Done\n",
      "Body_Fat%(object): Done\n",
      "Fat-free_Body_Weightkg(object): Done\n",
      "Subcutaneous_Fat%(object): Done\n",
      "Visceral_Fat(object): Done\n",
      "Body_Water%(object): Done\n",
      "Skeletal_Muscle%(object): Done\n",
      "Muscle_Masskg(object): Done\n",
      "Bone_Masskg(object): Done\n",
      "Protein%(object): Done\n",
      "BMRkcal(object): Done\n",
      "Metabolic_Age(object): Done\n",
      "************************************************************************************\n",
      "************************************************************************************\n",
      "*****************************Datatypes after conversion*****************************\n",
      "************************************************************************************\n",
      "************************************************************************************\n",
      "Time_of_Measurement        object\n",
      "Weightkg                  float64\n",
      "BMI                       float64\n",
      "Body_Fat%                 float64\n",
      "Fat-free_Body_Weightkg    float64\n",
      "Subcutaneous_Fat%         float64\n",
      "Visceral_Fat              float64\n",
      "Body_Water%               float64\n",
      "Skeletal_Muscle%          float64\n",
      "Muscle_Masskg             float64\n",
      "Bone_Masskg               float64\n",
      "Protein%                  float64\n",
      "BMRkcal                   float64\n",
      "Metabolic_Age             float64\n",
      "dtype: object\n",
      "Shape of dataframe before removing duplicates: (252, 14)\n",
      "Shape of dataframe after removing duplicates: (228, 14)\n"
     ]
    }
   ],
   "source": [
    "df_test = data_prep(df_initial)\n",
    "df_final = date_numeric_groupby(df_test)\n"
   ]
  },
  {
   "cell_type": "code",
   "execution_count": 161,
   "metadata": {},
   "outputs": [],
   "source": [
    "df_final = bm.datetime_conversion(df_final, ['Time_of_Measurement'])\n",
    "df_line = df_final[['Time_of_Measurement','Weightkg']].sort_values('Time_of_Measurement')\n",
    "df_line['rolling_weight_7'] = df_line['Weightkg'].rolling(window=7).mean()"
   ]
  },
  {
   "cell_type": "code",
   "execution_count": 183,
   "metadata": {},
   "outputs": [
    {
     "data": {
      "text/plain": [
       "[<matplotlib.lines.Line2D at 0x7fa308016a30>]"
      ]
     },
     "execution_count": 183,
     "metadata": {},
     "output_type": "execute_result"
    },
    {
     "data": {
      "image/png": "[encoded data removed]",
      "text/plain": [
       "<Figure size 1440x936 with 1 Axes>"
      ]
     },
     "metadata": {
      "needs_background": "light"
     },
     "output_type": "display_data"
    }
   ],
   "source": [
    "plt.figure(figsize=(20,13))\n",
    "plt.plot(df_line['Time_of_Measurement'], df_line['rolling_weight_7'])"
   ]
  },
  {
   "cell_type": "code",
   "execution_count": 181,
   "metadata": {},
   "outputs": [
    {
     "data": {
      "text/plain": [
       "Time_of_Measurement    datetime64[ns]\n",
       "Weightkg                      float64\n",
       "rolling_weight_7              float64\n",
       "dtype: object"
      ]
     },
     "execution_count": 181,
     "metadata": {},
     "output_type": "execute_result"
    }
   ],
   "source": [
    "df_line.dtypes"
   ]
  },
  {
   "cell_type": "code",
   "execution_count": null,
   "metadata": {},
   "outputs": [],
   "source": []
  }
 ],
 "metadata": {
  "kernelspec": {
   "display_name": "Python 3 (ipykernel)",
   "language": "python",
   "name": "python3"
  },
  "language_info": {
   "codemirror_mode": {
    "name": "ipython",
    "version": 3
   },
   "file_extension": ".py",
   "mimetype": "text/x-python",
   "name": "python",
   "nbconvert_exporter": "python",
   "pygments_lexer": "ipython3",
   "version": "3.8.3"
  }
 },
 "nbformat": 4,
 "nbformat_minor": 4
}
