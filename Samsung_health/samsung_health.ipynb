{
 "cells": [
  {
   "cell_type": "markdown",
   "metadata": {},
   "source": [
    "# <center> Samsung Health"
   ]
  },
  {
   "cell_type": "code",
   "execution_count": 1,
   "metadata": {},
   "outputs": [],
   "source": [
    "%matplotlib inline\n",
    "import numpy as np \n",
    "import pandas as pd \n",
    "import os\n",
    "from glob import glob\n",
    "import json\n",
    "import matplotlib.pyplot as plt\n",
    "import seaborn as sns"
   ]
  },
  {
   "cell_type": "code",
   "execution_count": 9,
   "metadata": {},
   "outputs": [],
   "source": [
    "path = '/Users/jayrajparmar/Documents/side_project/health_data_tracking/Samsung_health'\n",
    "# file_name = 'samsunghealth_jayrajparmar009_202206082229'\n",
    "samsung_dir = os.path.join(path)\n"
   ]
  },
  {
   "cell_type": "code",
   "execution_count": 34,
   "metadata": {},
   "outputs": [
    {
     "name": "stdout",
     "output_type": "stream",
     "text": [
      "26 csvs found\n",
      "0 jsons found\n"
     ]
    }
   ],
   "source": [
    "samsung_folder_contents = glob(os.path.join(samsung_dir, '*'))\n",
    "samsung_data_dump = os.path.basename(''.join([i for i in samsung_folder_contents if '.' not in i]))\n",
    "\n",
    "\n",
    "samsung_csvs = glob(os.path.join(samsung_dir, samsung_data_dump, '*.csv'))\n",
    "print(len(samsung_csvs), 'csvs found')\n",
    "samsung_jsons = glob(os.path.join(samsung_dir, samsung_data_dump, 'jsons', '*',  '*.json'))\n",
    "print(len(samsung_jsons), 'jsons found')\n"
   ]
  }
 ],
 "metadata": {
  "kernelspec": {
   "display_name": "Python 3 (ipykernel)",
   "language": "python",
   "name": "python3"
  },
  "language_info": {
   "codemirror_mode": {
    "name": "ipython",
    "version": 3
   },
   "file_extension": ".py",
   "mimetype": "text/x-python",
   "name": "python",
   "nbconvert_exporter": "python",
   "pygments_lexer": "ipython3",
   "version": "3.8.3"
  }
 },
 "nbformat": 4,
 "nbformat_minor": 4
}
