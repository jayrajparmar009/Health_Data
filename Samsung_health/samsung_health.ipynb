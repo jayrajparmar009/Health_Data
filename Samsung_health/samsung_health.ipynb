{
 "cells": [
  {
   "cell_type": "markdown",
   "metadata": {},
   "source": [
    "# <center> Samsung Health"
   ]
  },
  {
   "cell_type": "code",
   "execution_count": 1,
   "metadata": {},
   "outputs": [],
   "source": [
    "%matplotlib inline\n",
    "import numpy as np \n",
    "import pandas as pd \n",
    "import os\n",
    "from glob import glob\n",
    "import json\n",
    "import matplotlib.pyplot as plt\n",
    "import seaborn as sns"
   ]
  },
  {
   "cell_type": "markdown",
   "metadata": {},
   "source": [
    "### Will need to create automated data pipeline "
   ]
  },
  {
   "cell_type": "code",
   "execution_count": null,
   "metadata": {},
   "outputs": [],
   "source": []
  },
  {
   "cell_type": "code",
   "execution_count": 19,
   "metadata": {},
   "outputs": [],
   "source": [
    "path = '/Users/jayrajparmar/Documents/side_project/health_data_tracking/Samsung_health/samsunghealth_jayrajparmar009_202206082229'\n",
    "# file_name = 'samsunghealth_jayrajparmar009_202206082229'\n",
    "samsung_dir = os.path.join(path)\n",
    "os.chdir(path)\n",
    "\n",
    "def date_range_generator(start_dt, end_dt):\n",
    "    \"\"\"\n",
    "    Function for generating date range between start and end date;\n",
    "    It has 2 arguments to be added:\n",
    "        * start_dt = datetime value for the start date\n",
    "        * end_dt = datetime value for the end date\n",
    "    \"\"\"\n",
    "    lis = []\n",
    "    while start_dt < end_dt:\n",
    "        start_dt += timedelta(days=1)\n",
    "        lis.append(start_dt)\n",
    "    df = pd.DataFrame(lis, columns=['date_range'])\n",
    "    return df\n"
   ]
  },
  {
   "cell_type": "code",
   "execution_count": 95,
   "metadata": {},
   "outputs": [
    {
     "name": "stderr",
     "output_type": "stream",
     "text": [
      "/var/folders/cq/3xkv6yb54s9209s3g7f7b5_00000gn/T/ipykernel_1072/3405832289.py:5: SettingWithCopyWarning: \n",
      "A value is trying to be set on a copy of a slice from a DataFrame.\n",
      "Try using .loc[row_indexer,col_indexer] = value instead\n",
      "\n",
      "See the caveats in the documentation: https://pandas.pydata.org/pandas-docs/stable/user_guide/indexing.html#returning-a-view-versus-a-copy\n",
      "  steps_refined['create_time'] = pd.to_datetime(steps_refined['create_time'], errors='coerce')\n"
     ]
    }
   ],
   "source": [
    "read_df = lambda x: pd.read_csv(x, skiprows=1, index_col=False)\n",
    "dfs_steps = {i.replace('com.samsung.', ''): read_df(i) for i in os.listdir() if 'step' in i}\n",
    "steps_df = list(dfs_steps.values())[0]\n",
    "steps_refined = steps_df[['create_time','count','distance','calorie']]\n",
    "steps_refined['create_time'] = pd.to_datetime(steps_refined['create_time'], errors='coerce')\n",
    "\n",
    "\n",
    "d_agg = {'count': np.mean,\n",
    "         'distance': np.mean,\n",
    "         'calorie': np.mean\n",
    "    \n",
    "}\n",
    "\n",
    "\n",
    "steps_refined_final = steps_refined.groupby(steps_refined['create_time'].dt.date).agg(d_agg).reset_index()\n",
    "steps_refined_final['distance'] = steps_refined_final['distance']/1000\n",
    "steps_refined_final = steps_refined_final.sort_values('create_time')"
   ]
  },
  {
   "cell_type": "code",
   "execution_count": 96,
   "metadata": {},
   "outputs": [
    {
     "data": {
      "text/html": [
       "<div>\n",
       "<style scoped>\n",
       "    .dataframe tbody tr th:only-of-type {\n",
       "        vertical-align: middle;\n",
       "    }\n",
       "\n",
       "    .dataframe tbody tr th {\n",
       "        vertical-align: top;\n",
       "    }\n",
       "\n",
       "    .dataframe thead th {\n",
       "        text-align: right;\n",
       "    }\n",
       "</style>\n",
       "<table border=\"1\" class=\"dataframe\">\n",
       "  <thead>\n",
       "    <tr style=\"text-align: right;\">\n",
       "      <th></th>\n",
       "      <th>create_time</th>\n",
       "      <th>count</th>\n",
       "      <th>distance</th>\n",
       "      <th>calorie</th>\n",
       "    </tr>\n",
       "  </thead>\n",
       "  <tbody>\n",
       "    <tr>\n",
       "      <th>905</th>\n",
       "      <td>2022-06-04</td>\n",
       "      <td>3606.0</td>\n",
       "      <td>2.684645</td>\n",
       "      <td>156.774998</td>\n",
       "    </tr>\n",
       "    <tr>\n",
       "      <th>906</th>\n",
       "      <td>2022-06-05</td>\n",
       "      <td>5666.0</td>\n",
       "      <td>4.251380</td>\n",
       "      <td>238.550000</td>\n",
       "    </tr>\n",
       "    <tr>\n",
       "      <th>907</th>\n",
       "      <td>2022-06-06</td>\n",
       "      <td>5121.5</td>\n",
       "      <td>4.108195</td>\n",
       "      <td>250.399990</td>\n",
       "    </tr>\n",
       "    <tr>\n",
       "      <th>908</th>\n",
       "      <td>2022-06-07</td>\n",
       "      <td>3649.0</td>\n",
       "      <td>3.003770</td>\n",
       "      <td>190.429990</td>\n",
       "    </tr>\n",
       "    <tr>\n",
       "      <th>909</th>\n",
       "      <td>2022-06-08</td>\n",
       "      <td>3179.0</td>\n",
       "      <td>2.379380</td>\n",
       "      <td>137.249998</td>\n",
       "    </tr>\n",
       "  </tbody>\n",
       "</table>\n",
       "</div>"
      ],
      "text/plain": [
       "    create_time   count  distance     calorie\n",
       "905  2022-06-04  3606.0  2.684645  156.774998\n",
       "906  2022-06-05  5666.0  4.251380  238.550000\n",
       "907  2022-06-06  5121.5  4.108195  250.399990\n",
       "908  2022-06-07  3649.0  3.003770  190.429990\n",
       "909  2022-06-08  3179.0  2.379380  137.249998"
      ]
     },
     "execution_count": 96,
     "metadata": {},
     "output_type": "execute_result"
    }
   ],
   "source": [
    "steps_refined_final.tail()"
   ]
  },
  {
   "cell_type": "code",
   "execution_count": null,
   "metadata": {},
   "outputs": [],
   "source": []
  }
 ],
 "metadata": {
  "kernelspec": {
   "display_name": "Python 3 (ipykernel)",
   "language": "python",
   "name": "python3"
  },
  "language_info": {
   "codemirror_mode": {
    "name": "ipython",
    "version": 3
   },
   "file_extension": ".py",
   "mimetype": "text/x-python",
   "name": "python",
   "nbconvert_exporter": "python",
   "pygments_lexer": "ipython3",
   "version": "3.8.3"
  }
 },
 "nbformat": 4,
 "nbformat_minor": 4
}
